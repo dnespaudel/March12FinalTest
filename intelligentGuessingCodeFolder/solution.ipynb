{
 "cells": [
  {
   "cell_type": "code",
   "execution_count": 13,
   "id": "67493ed4",
   "metadata": {},
   "outputs": [
    {
     "ename": "ValueError",
     "evalue": "DataFrame constructor not properly called!",
     "output_type": "error",
     "traceback": [
      "\u001b[1;31m---------------------------------------------------------------------------\u001b[0m",
      "\u001b[1;31mValueError\u001b[0m                                Traceback (most recent call last)",
      "Input \u001b[1;32mIn [13]\u001b[0m, in \u001b[0;36m<module>\u001b[1;34m\u001b[0m\n\u001b[0;32m    106\u001b[0m         new_row\u001b[38;5;241m.\u001b[39mappend(comment)\n\u001b[0;32m    107\u001b[0m         csvwriter\u001b[38;5;241m.\u001b[39mwriterow(new_row)\n\u001b[1;32m--> 109\u001b[0m final_df\u001b[38;5;241m=\u001b[39m \u001b[43mpd\u001b[49m\u001b[38;5;241;43m.\u001b[39;49m\u001b[43mDataFrame\u001b[49m\u001b[43m(\u001b[49m\u001b[43mcsvwriter\u001b[49m\u001b[43m)\u001b[49m\n\u001b[0;32m    110\u001b[0m final_df\u001b[38;5;241m.\u001b[39mto_csv(\u001b[38;5;124m'\u001b[39m\u001b[38;5;124mproblemset1_submission.csv\u001b[39m\u001b[38;5;124m'\u001b[39m, encoding\u001b[38;5;241m=\u001b[39m\u001b[38;5;124m'\u001b[39m\u001b[38;5;124mISO-8859-1\u001b[39m\u001b[38;5;124m'\u001b[39m)\n",
      "File \u001b[1;32m~\\AppData\\Local\\Programs\\Python\\Python310\\lib\\site-packages\\pandas\\core\\frame.py:757\u001b[0m, in \u001b[0;36mDataFrame.__init__\u001b[1;34m(self, data, index, columns, dtype, copy)\u001b[0m\n\u001b[0;32m    754\u001b[0m \u001b[38;5;66;03m# For data is scalar\u001b[39;00m\n\u001b[0;32m    755\u001b[0m \u001b[38;5;28;01melse\u001b[39;00m:\n\u001b[0;32m    756\u001b[0m     \u001b[38;5;28;01mif\u001b[39;00m index \u001b[38;5;129;01mis\u001b[39;00m \u001b[38;5;28;01mNone\u001b[39;00m \u001b[38;5;129;01mor\u001b[39;00m columns \u001b[38;5;129;01mis\u001b[39;00m \u001b[38;5;28;01mNone\u001b[39;00m:\n\u001b[1;32m--> 757\u001b[0m         \u001b[38;5;28;01mraise\u001b[39;00m \u001b[38;5;167;01mValueError\u001b[39;00m(\u001b[38;5;124m\"\u001b[39m\u001b[38;5;124mDataFrame constructor not properly called!\u001b[39m\u001b[38;5;124m\"\u001b[39m)\n\u001b[0;32m    759\u001b[0m     \u001b[38;5;66;03m# Argument 1 to \"ensure_index\" has incompatible type \"Collection[Any]\";\u001b[39;00m\n\u001b[0;32m    760\u001b[0m     \u001b[38;5;66;03m# expected \"Union[Union[Union[ExtensionArray, ndarray],\u001b[39;00m\n\u001b[0;32m    761\u001b[0m     \u001b[38;5;66;03m# Index, Series], Sequence[Any]]\"\u001b[39;00m\n\u001b[0;32m    762\u001b[0m     index \u001b[38;5;241m=\u001b[39m ensure_index(index)  \u001b[38;5;66;03m# type: ignore[arg-type]\u001b[39;00m\n",
      "\u001b[1;31mValueError\u001b[0m: DataFrame constructor not properly called!"
     ]
    }
   ],
   "source": [
    "# 11 for firstname\n",
    "# 11-fnl for first n letters of the first name\n",
    "# 1 for first letter of the first name\n",
    "# 22 for the last name\n",
    "# 20 for first part of the last name\n",
    "# 21 for the last part of the last name\n",
    "import csv\n",
    "import linecache\n",
    "import pandas as pd\n",
    "read_file = pd.read_csv (r'intelligentGuessingDataSet')\n",
    "read_file.to_csv (r'intelligentGuessingDataSet.csv', index=None)\n",
    "file = open(\"intelligentGuessingDataSet.csv\")\n",
    "newfile = open(\"problemset1_submission.csv\", \"w\")\n",
    "csvreader = csv.reader(file)\n",
    "csvwriter = csv.writer(newfile)\n",
    "blank_list=[]\n",
    "for i in range(54):\n",
    "    if i <= 20:\n",
    "        header = next(csvreader)\n",
    "        csvwriter.writerow(header)\n",
    "    else:\n",
    "        row = next(csvreader)\n",
    "        rownum = row[0]\n",
    "        firstname = row[1]\n",
    "        lastname = row[2]\n",
    "        mail = row[3]\n",
    "        pattern = row[4]\n",
    "        comment = row[5]\n",
    "        new_row = [rownum]\n",
    "        newfirstname = \"\"\n",
    "        newlastname = \"\"\n",
    "        newpattern = \"\"\n",
    "        first_mail = mail.split(\"@\")[0]\n",
    "        last_mail = mail.split(\"@\")[1]\n",
    "        possible_row_number = -1\n",
    "        found_possible_row_number = False\n",
    "        if comment.find(\"intelligent guessing\") != -1:\n",
    "            possible_row_number = int(comment[len(comment) - 3 : len(comment)], 10)\n",
    "        if possible_row_number != -1 and comment.find(\"firstname\") != -1:\n",
    "            line = linecache.getline(\n",
    "                \"intelligentGuessingDataSet.csv\", possible_row_number + 1\n",
    "            )\n",
    "            firstname = line.split(\",\")[1]\n",
    "        newfirstname = firstname\n",
    "        if possible_row_number != -1 and comment.find(\"lastname\") != -1:\n",
    "            line = linecache.getline(\n",
    "                \"intelligentGuessingDataSet.csv\", possible_row_number + 1\n",
    "            )\n",
    "            lastname = line.split(\",\")[1]\n",
    "        newlastname = lastname\n",
    "        if pattern == \"\":\n",
    "            pattern_result = \"\"\n",
    "            temp_first_mail = first_mail.lower()\n",
    "            temp_first_mail = temp_first_mail.replace(newfirstname.lower(), \"<11>\")\n",
    "            temp_first_mail = temp_first_mail.replace(newlastname.lower(), \"<22>\")\n",
    "            splitted_new_last_name = newlastname.split(\" \")\n",
    "            if len(splitted_new_last_name) > 1:\n",
    "                temp_first_mail = temp_first_mail.replace(\n",
    "                    splitted_new_last_name[1].lower(), \"<21>\"\n",
    "                )\n",
    "            if len(splitted_new_last_name) > 0:\n",
    "                temp_first_mail = temp_first_mail.replace(\n",
    "                    splitted_new_last_name[0].lower(), \"<20>\"\n",
    "                )\n",
    "            for i in range(max(len(firstname), len(lastname)), 1, -1):\n",
    "                if i <= len(firstname):\n",
    "                    temp_first_mail = temp_first_mail.replace(\n",
    "                        newfirstname[0:i].lower(), \"<11-f\" + str(i) + \"l>\"\n",
    "                    )\n",
    "                if i <= len(lastname):\n",
    "                    temp_first_mail = temp_first_mail.replace(\n",
    "                        newlastname[0:i].lower(), \"<11-f\" + str(i) + \"l>\"\n",
    "                    )\n",
    "                if len(splitted_new_last_name) > 0 and i <= len(\n",
    "                    splitted_new_last_name[0]\n",
    "                ):\n",
    "                    temp_first_mail = temp_first_mail.replace(\n",
    "                        splitted_new_last_name[0][0:i].lower(), \"<21-f\" + str(i) + \"l>\"\n",
    "                    )\n",
    "                if len(splitted_new_last_name) > 1 and i <= len(\n",
    "                    splitted_new_last_name[1]\n",
    "                ):\n",
    "                    temp_first_mail = temp_first_mail.replace(\n",
    "                        splitted_new_last_name[1][0:i].lower(), \"<22-f\" + str(i) + \"l>\"\n",
    "                    )\n",
    "            temp_first_mail = temp_first_mail.replace(newfirstname[0].lower(), \"<1>\")\n",
    "            temp_first_mail = temp_first_mail.replace(newfirstname[1].lower(), \"<2>\")\n",
    "            temp_first_mail = \"\".join(temp_first_mail.split())\n",
    "            newpattern = temp_first_mail\n",
    "        new_row.append(newfirstname)\n",
    "        new_row.append(newlastname)\n",
    "        new_row.append(mail)\n",
    "        new_row.append(newpattern)\n",
    "        new_row.append(comment)\n",
    "        csvwriter.writerow(new_row)\n",
    "        blank_list.append(new_row)\n",
    "final_df= pd.DataFrame(blank_list)\n",
    "final_df.to_csv('Pradeepdai.csv', encoding='ISO-8859-1')"
   ]
  },
  {
   "cell_type": "code",
   "execution_count": 10,
   "id": "46a2e9a3",
   "metadata": {},
   "outputs": [
    {
     "data": {
      "text/plain": [
       "<_io.TextIOWrapper name='problemset1_submission.csv' mode='w' encoding='cp1252'>"
      ]
     },
     "execution_count": 10,
     "metadata": {},
     "output_type": "execute_result"
    }
   ],
   "source": []
  },
  {
   "cell_type": "code",
   "execution_count": null,
   "id": "95f5cbeb",
   "metadata": {},
   "outputs": [],
   "source": []
  }
 ],
 "metadata": {
  "kernelspec": {
   "display_name": "Python 3 (ipykernel)",
   "language": "python",
   "name": "python3"
  },
  "language_info": {
   "codemirror_mode": {
    "name": "ipython",
    "version": 3
   },
   "file_extension": ".py",
   "mimetype": "text/x-python",
   "name": "python",
   "nbconvert_exporter": "python",
   "pygments_lexer": "ipython3",
   "version": "3.10.1"
  }
 },
 "nbformat": 4,
 "nbformat_minor": 5
}
